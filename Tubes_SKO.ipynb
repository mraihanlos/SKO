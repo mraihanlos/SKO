{
  "nbformat": 4,
  "nbformat_minor": 0,
  "metadata": {
    "colab": {
      "name": "Tubes SKO.ipynb",
      "provenance": [],
      "authorship_tag": "ABX9TyMnDQFN905UFB5QYuPCbrMn",
      "include_colab_link": true
    },
    "kernelspec": {
      "name": "python3",
      "display_name": "Python 3"
    }
  },
  "cells": [
    {
      "cell_type": "markdown",
      "metadata": {
        "id": "view-in-github",
        "colab_type": "text"
      },
      "source": [
        "<a href=\"https://colab.research.google.com/github/mraihanlos/SKO/blob/main/Tubes_SKO.ipynb\" target=\"_parent\"><img src=\"https://colab.research.google.com/assets/colab-badge.svg\" alt=\"Open In Colab\"/></a>"
      ]
    },
    {
      "cell_type": "markdown",
      "metadata": {
        "id": "qJM32rs1je6j"
      },
      "source": [
        "Muhammad Raihan (1101184176)\r\n",
        "\r\n",
        "Kelas : TT-42-02\r\n",
        "\r\n",
        "No. presensi : 25\r\n",
        "\r\n",
        "**Spesifikasi Perancangan FTTB**\r\n",
        "\r\n",
        "Objek perancangan FTTB :\r\n",
        "\r\n",
        "Topologi : Sentral - ODC - ODP - roset\r\n",
        "\r\n",
        "Jarak dari STO Gambir ke Gedung Raihan (Duren Sawit, Jakarta Timur) = 10 KM atau 10000 M\r\n",
        "\r\n",
        "1 Haspel = 2 KM, membutuhkan 5 haspel dari sentral ke gedung\r\n",
        "\r\n",
        "1 Gedung = 30 Lantai (Splitter 1:32)\r\n",
        "\r\n",
        "1 Lantai = 15 Ruangan (Splitter 1:16)\r\n",
        "\r\n",
        "8 Connector dan 2 spliter\r\n",
        "\r\n",
        "Spesifikasi splitter : \r\n",
        "\r\n",
        "1.   1 : 32 (1 Buah) = redaman 18 dB (Untuk ODC ke ODP)\r\n",
        "2.   1 : 16 (1 Buah) = redaman 15 dB (Untuk ODP ke Roset)\r\n",
        "\r\n",
        "jenis fiber G625D dengan panjang gelombang 1310 nm dengan redaman 0.35 dB/Km\r\n",
        "\r\n",
        "4 Splicer dengan redaman 0.1 dB\r\n",
        "\r\n",
        "Jarak Sentral ke ODP = 10 Km (10000 M)\r\n",
        "\r\n",
        "Jarak ODP ke Roset = 5 x 25 = 125 meter\r\n",
        "\r\n",
        "Total jarak = 10 Km + 125 meter = 10125 meter atau 10.125 Km"
      ]
    },
    {
      "cell_type": "code",
      "metadata": {
        "id": "-f8KDNOFWppl"
      },
      "source": [
        "import math as m\r\n",
        "import matplotlib.pyplot as plt\r\n",
        "import numpy as np"
      ],
      "execution_count": 36,
      "outputs": []
    },
    {
      "cell_type": "code",
      "metadata": {
        "id": "OgkBmDq2fblJ"
      },
      "source": [
        "#Convert\r\n",
        "NtL = lambda x : 10 * np.log10(x)\r\n",
        "LtN = lambda x : 10**(x/10)\r\n",
        "\r\n",
        "#dayaterima (Pr)\r\n",
        "\r\n",
        "d= np.arange(0.125,10.125,1) #Jarak (Km)\r\n",
        "l_fib = 0.35 * d #Redaman fiber\r\n",
        "n_splc = 4 #jumlah Splicer\r\n",
        "l_splc = 0.1 * n_splc #Redaman Splicer dikali jumlah splicer (dB)\r\n",
        "n_con = 8 #jumlah konektor\r\n",
        "l_con = 0.3 * n_con #Redaman konektor dikali jumlah konektor (dB)\r\n",
        "l_splt = 15 + 18 #Redaman Splitter 1:16 dan 1:32 (dB)\r\n",
        "pt = 5 #dBm\r\n",
        "\r\n",
        "#SNR\r\n",
        "\r\n",
        "R = 0.85 #Responsifitas (A/W)\r\n",
        "M = -0.23 #Tambahan daya sinyal (db)\r\n",
        "lm = 3 #Margin (dB)\r\n",
        "q = 1.6*10**-19 #Muatan\r\n",
        "id = 2*10**-7 #Arus gelap (Ampere)\r\n",
        "B = 8*10**9 #Bandwith\r\n",
        "F = 1 #noise figure\r\n",
        "K = 1.38*10**-23 #k.boltzman\r\n",
        "teff = 290 #Suhu (kelvin)\r\n",
        "RL = 50 #Resistansi Ekivalen\r\n"
      ],
      "execution_count": 74,
      "outputs": []
    },
    {
      "cell_type": "code",
      "metadata": {
        "colab": {
          "base_uri": "https://localhost:8080/"
        },
        "id": "wmkf_bWxiVRi",
        "outputId": "ddda7b26-3828-4318-f769-0ecb8320e5fc"
      },
      "source": [
        "def PR(pt,d,l_fib,n_splc,l_splc,n_con,l_con,l_splt,lm):\r\n",
        "  RT = l_fib + l_splc + l_con + l_splt + lm\r\n",
        "  pr = pt - RT\r\n",
        "  return pr\r\n",
        "pr = PR(pt,d,l_fib,n_splc,l_splc,n_con,l_con,l_splt,lm)\r\n",
        "print(pr)"
      ],
      "execution_count": 76,
      "outputs": [
        {
          "output_type": "stream",
          "text": [
            "[-33.84375 -34.19375 -34.54375 -34.89375 -35.24375 -35.59375 -35.94375\n",
            " -36.29375 -36.64375 -36.99375]\n"
          ],
          "name": "stdout"
        }
      ]
    },
    {
      "cell_type": "code",
      "metadata": {
        "colab": {
          "base_uri": "https://localhost:8080/"
        },
        "id": "WBjUBuweiXR1",
        "outputId": "9013e6d1-01e5-4689-a106-44b2c627ce9d"
      },
      "source": [
        "#Arus primer\r\n",
        "def ap(pr):\r\n",
        "  pr_num = LtN(pr)\r\n",
        "  ip = pr_num * R\r\n",
        "  return ip\r\n",
        "ip = ap(pr)\r\n",
        "#print(ip)\r\n",
        "\r\n",
        "#BDC\r\n",
        "def bdc(q,id,B,M,F):\r\n",
        "  BDC = 2*q*id*B*M*M*F\r\n",
        "  return BDC\r\n",
        "BDC = bdc(q,id,B,M,F)\r\n",
        "#print(BDC)\r\n",
        "\r\n",
        "#SN (shot noise)\r\n",
        "def sn(q,ip,B,M,F):\r\n",
        "  SN = 2*q*ip*B*M*M*F\r\n",
        "  return SN\r\n",
        "SN = sn(q,ip,B,M,F)\r\n",
        "#print(SN)\r\n",
        "\r\n",
        "#NT (noise thermal)\r\n",
        "def nt(K,teff,B,RL):\r\n",
        "  NT = (4*K*teff*B)/RL\r\n",
        "  return NT\r\n",
        "NT = nt(K,teff,B,RL)\r\n",
        "#print(NT)\r\n",
        "\r\n",
        "#SNR (signal noise ratio)\r\n",
        "def snr(BDC,SN,NT,M,ip):\r\n",
        "  SNR = ((ip)**2 * M**2)/(BDC + SN + NT)\r\n",
        "  SNR1 = NtL(SNR) #dalam dB \r\n",
        "  return SNR1\r\n",
        "SNR1 = snr(BDC,SN,NT,M,ip)\r\n",
        "print(SNR1) #dB"
      ],
      "execution_count": 78,
      "outputs": [
        {
          "output_type": "stream",
          "text": [
            "[33.97100721 33.27713479 32.58279559 31.88802464 31.1928544  30.49731497\n",
            " 29.80143423 29.10523801 28.40875022 27.71199301]\n"
          ],
          "name": "stdout"
        }
      ]
    },
    {
      "cell_type": "code",
      "metadata": {
        "colab": {
          "base_uri": "https://localhost:8080/"
        },
        "id": "2Pp5q6-TiZi-",
        "outputId": "c98e310d-838b-4973-cc53-2d058e708a23"
      },
      "source": [
        "#Q-Faktor\r\n",
        "def qf(SNR1):\r\n",
        "  qf = 10**(SNR1/20)\r\n",
        "  return qf\r\n",
        "QF = qf(SNR1)\r\n",
        "print(QF)"
      ],
      "execution_count": 79,
      "outputs": [
        {
          "output_type": "stream",
          "text": [
            "[49.95171008 46.11654251 42.5735416  39.30078563 36.27794851 33.48619087\n",
            " 30.90805749 28.52738086 26.32919075 24.29962942]\n"
          ],
          "name": "stdout"
        }
      ]
    },
    {
      "cell_type": "code",
      "metadata": {
        "colab": {
          "base_uri": "https://localhost:8080/"
        },
        "id": "owBh2mg_ib8k",
        "outputId": "a17c68d5-28e2-429f-de19-c070a726e8bf"
      },
      "source": [
        "def ber(QF):\r\n",
        "  phi = 3.14159\r\n",
        "  BER = (1/(QF*np.sqrt(2*phi)))*(np.exp(-QF**2/2))\r\n",
        "  return BER\r\n",
        "BER = ber(QF)\r\n",
        "print(BER)"
      ],
      "execution_count": 80,
      "outputs": [
        {
          "output_type": "stream",
          "text": [
            "[0.00000000e+000 0.00000000e+000 0.00000000e+000 0.00000000e+000\n",
            " 1.80323904e-288 3.83194307e-246 4.65948847e-210 2.68370915e-179\n",
            " 4.44935875e-153 9.90711334e-131]\n"
          ],
          "name": "stdout"
        }
      ]
    },
    {
      "cell_type": "code",
      "metadata": {
        "colab": {
          "base_uri": "https://localhost:8080/",
          "height": 1000
        },
        "id": "i0t0zXnJiiyC",
        "outputId": "25e9e7e0-e7aa-473b-d691-b87e1d75f511"
      },
      "source": [
        "def graph_snr():\r\n",
        "  plt.figure()\r\n",
        "  plt.plot(d,SNR1,'--')\r\n",
        "  plt.title('Perbandingan Jarak dengan SNR')\r\n",
        "  plt.xlabel('Jarak (Km)')\r\n",
        "  plt.ylabel('SNR (dB)')\r\n",
        "  plt.show()\r\n",
        "\r\n",
        "def graph_Q():\r\n",
        "  plt.figure()\r\n",
        "  plt.plot(d,QF,'--')\r\n",
        "  plt.title('Perbandingan Jarak dengan Q')\r\n",
        "  plt.xlabel('Jarak (Km)')\r\n",
        "  plt.ylabel('Q')\r\n",
        "  plt.show()\r\n",
        "\r\n",
        "def graph_BER():\r\n",
        "  plt.figure()\r\n",
        "  plt.plot(d,BER,'--')\r\n",
        "  plt.title('Perbandingan Jarak dengan BER')\r\n",
        "  plt.xlabel('Jarak (Km)')\r\n",
        "  plt.ylabel('BER')\r\n",
        "  plt.show()\r\n",
        "\r\n",
        "def graph_SNRB():\r\n",
        "  plt.figure()\r\n",
        "  plt.plot(SNR1,BER,'--')\r\n",
        "  plt.title('Perbandingan BER dengan SNR')\r\n",
        "  plt.xlabel('SNR')\r\n",
        "  plt.ylabel('BER')\r\n",
        "  plt.show()\r\n",
        "\r\n",
        "graph_snr()\r\n",
        "graph_Q()\r\n",
        "graph_BER()\r\n",
        "graph_SNRB()"
      ],
      "execution_count": 85,
      "outputs": [
        {
          "output_type": "display_data",
          "data": {
            "image/png": "[encoded data removed]",
            "text/plain": [
              "<Figure size 432x288 with 1 Axes>"
            ]
          },
          "metadata": {
            "tags": [],
            "needs_background": "light"
          }
        },
        {
          "output_type": "display_data",
          "data": {
            "image/png": "[encoded data removed]",
            "text/plain": [
              "<Figure size 432x288 with 1 Axes>"
            ]
          },
          "metadata": {
            "tags": [],
            "needs_background": "light"
          }
        },
        {
          "output_type": "display_data",
          "data": {
            "image/png": "[encoded data removed]",
            "text/plain": [
              "<Figure size 432x288 with 1 Axes>"
            ]
          },
          "metadata": {
            "tags": [],
            "needs_background": "light"
          }
        },
        {
          "output_type": "display_data",
          "data": {
            "image/png": "[encoded data removed]",
            "text/plain": [
              "<Figure size 432x288 with 1 Axes>"
            ]
          },
          "metadata": {
            "tags": [],
            "needs_background": "light"
          }
        }
      ]
    }
  ]
}
